{
 "cells": [
  {
   "cell_type": "code",
   "execution_count": 0,
   "metadata": {
    "application/vnd.databricks.v1+cell": {
     "cellMetadata": {
      "byteLimit": 2048000,
      "rowLimit": 10000
     },
     "inputWidgets": {},
     "nuid": "f8a5afef-488b-4080-889b-e8d775375572",
     "showTitle": false,
     "tableResultSettingsMap": {},
     "title": ""
    }
   },
   "outputs": [],
   "source": [
    "\n",
    "######Referencia Databicks Azure\n",
    "\n",
    "o que é lakehouse:\n",
    "https://learn.microsoft.com/pt-br/azure/databricks/lakehouse/\n",
    "\n",
    "\n",
    "O que é arquitetura medallion do Lakehouse?\n",
    "https://learn.microsoft.com/pt-br/azure/databricks/lakehouse/medallion\n",
    "\n",
    "\n",
    "Pipelines de processamento de ingestão, ETL e fluxo com o Azure Databricks e o Delta Lake\n",
    "https://learn.microsoft.com/pt-br/azure/architecture/solution-ideas/articles/ingest-etl-stream-with-adb\n",
    "\n",
    "Grupos de recursos do Azure\n",
    "https://learn.microsoft.com/pt-br/azure/azure-resource-manager/management/manage-resource-groups-portal\n",
    "\n",
    "\n",
    "Introdução ao Azure Data Lake Storage Gen2\n",
    "https://learn.microsoft.com/pt-br/azure/storage/blobs/data-lake-storage-introduction\n",
    "\n",
    "\n",
    "Autenticação e autorização no Serviço\n",
    "https://learn.microsoft.com/pt-br/azure/app-service/overview-authentication-authorization\n",
    "\n",
    "\n",
    "O que é a gestão de identidades e acessos (IAM)?\n",
    "https://learn.microsoft.com/pt-br/azure/active-directory/fundamentals/introduction-identity-access-management\n",
    "\n",
    "ACLs (Listas de controle de acesso) no Azure Data Lake Storage Gen2\n",
    "https://learn.microsoft.com/pt-br/azure/storage/blobs/data-lake-storage-access-control\n",
    "\n",
    "Gerenciador de Armazenamento do Microsoft Azure\n",
    "https://azure.microsoft.com/pt-br/products/storage/storage-explorer\n",
    "\n",
    "Runtimes do Azure Synapse\n",
    "https://learn.microsoft.com/pt-br/azure/synapse-analytics/spark/apache-spark-version-support\n",
    "\n",
    "Runtime do Synapse para ciclo de vida e suporte do Apache Spark\n",
    "https://learn.microsoft.com/pt-br/azure/synapse-analytics/spark/runtime-for-apache-spark-lifecycle-and-supportability\n",
    "\n",
    "\n",
    "Valor Cluster \n",
    "https://azure.microsoft.com/en-gb/pricing/details/databricks/\n",
    "\n",
    "\n",
    "Referencia:\n",
    "\n",
    "Conectar-se ao Azure Data Lake Storage Gen2 e ao Armazenamento de Blobs:\n",
    "https://learn.microsoft.com/pt-br/azure/databricks/storage/azure-storage\n",
    "\n",
    "Montar o ADLS Gen2 ou o Armazenamento de Blobs com o ABFS:\n",
    "https://learn.microsoft.com/pt-br/azure/databricks/dbfs/mounts\n",
    "\n",
    "\n",
    "Obs diferença de DBFS E ABFS:\n",
    "\n",
    "DBFS (Databricks File System): treinamos em Community\n",
    "\n",
    "ABFS (Azure Blob Storage File System) : Arquivos em Nuvem\n",
    "\n",
    "#Config Padrão\n",
    "\n",
    "configs = {\"fs.azure.account.auth.type\": \"OAuth\",\n",
    "          \"fs.azure.account.oauth.provider.type\": \"org.apache.hadoop.fs.azurebfs.oauth2.ClientCredsTokenProvider\",\n",
    "          \"fs.azure.account.oauth2.client.id\": \"<application-id>\",\n",
    "          \"fs.azure.account.oauth2.client.secret\": dbutils.secrets.get(scope=\"<scope-name>\",key=\"<service-credential-key-name>\"),\n",
    "          \"fs.azure.account.oauth2.client.endpoint\": \"https://login.microsoftonline.com/<directory-id>/oauth2/token\"}\n",
    "\n",
    "# Optionally, you can add <directory-name> to the source URI of your mount point.\n",
    "dbutils.fs.mount(\n",
    "  source = \"abfss://<container-name>@<storage-account-name>.dfs.core.windows.net/\",\n",
    "  mount_point = \"/mnt/<mount-name>\",\n",
    "  extra_configs = configs)\n",
    "\n",
    "#Substitua\n",
    "\n",
    "#<application-id> com a ID de aplicativo (cliente) para o aplicativo do Azure Active Directory.\n",
    "#<scope-name> pelo nome do escopo de segredo do Databricks.\n",
    "#<service-credential-key-name> com o nome da chave que contém o segredo do cliente.\n",
    "#<directory-id> com a ID do Diretório (locatário) ID para o aplicativo do Azure Active Directory.\n",
    "#<container-name> pelo nome de um contêiner na conta de armazenamento do ADLS Gen2.\n",
    "#<storage-account-name> pelo nome da conta de armazenamento do ADLS Gen2.\n",
    "#<mount-name> com o nome do ponto de montagem pretendido no DBFS.\n",
    "Montando Armazenamento \n",
    "\n",
    "# criar uma \"pasta no Dantabricks para fazer vinculo\"\n",
    "%fs mkdirs /mnt/Anac\n",
    "\n",
    "\n"
   ]
  }
 ],
 "metadata": {
  "application/vnd.databricks.v1+notebook": {
   "computePreferences": null,
   "dashboards": [],
   "environmentMetadata": {
    "base_environment": "",
    "environment_version": "2"
   },
   "language": "python",
   "notebookMetadata": {
    "mostRecentlyExecutedCommandWithImplicitDF": {
     "commandId": 6296994711188431,
     "dataframes": [
      "_sqldf"
     ]
    },
    "pythonIndentUnit": 4
   },
   "notebookName": "01. Referencias Databricks Azure",
   "widgets": {}
  },
  "language_info": {
   "name": "python"
  }
 },
 "nbformat": 4,
 "nbformat_minor": 0
}
